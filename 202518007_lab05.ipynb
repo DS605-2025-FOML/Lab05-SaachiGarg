{
 "cells": [
  {
   "cell_type": "code",
   "execution_count": 12,
   "id": "17998c3f",
   "metadata": {},
   "outputs": [],
   "source": [
    "import numpy as np\n",
    "import pandas as pd\n",
    "import seaborn as sns\n",
    "import matplotlib_inline as plt"
   ]
  },
  {
   "cell_type": "code",
   "execution_count": 13,
   "id": "61f922fc",
   "metadata": {},
   "outputs": [
    {
     "data": {
      "text/html": [
       "<div>\n",
       "<style scoped>\n",
       "    .dataframe tbody tr th:only-of-type {\n",
       "        vertical-align: middle;\n",
       "    }\n",
       "\n",
       "    .dataframe tbody tr th {\n",
       "        vertical-align: top;\n",
       "    }\n",
       "\n",
       "    .dataframe thead th {\n",
       "        text-align: right;\n",
       "    }\n",
       "</style>\n",
       "<table border=\"1\" class=\"dataframe\">\n",
       "  <thead>\n",
       "    <tr style=\"text-align: right;\">\n",
       "      <th></th>\n",
       "      <th>CustomerID</th>\n",
       "      <th>Gender</th>\n",
       "      <th>SeniorCitizen</th>\n",
       "      <th>Partner</th>\n",
       "      <th>Dependents</th>\n",
       "      <th>Tenure</th>\n",
       "      <th>PhoneService</th>\n",
       "      <th>InternetService</th>\n",
       "      <th>MonthlyCharges</th>\n",
       "      <th>TotalCharges</th>\n",
       "      <th>Churn</th>\n",
       "      <th>Timestamp</th>\n",
       "    </tr>\n",
       "  </thead>\n",
       "  <tbody>\n",
       "    <tr>\n",
       "      <th>0</th>\n",
       "      <td>CUST000001</td>\n",
       "      <td>Male</td>\n",
       "      <td>0.0</td>\n",
       "      <td>Yes</td>\n",
       "      <td>Yes</td>\n",
       "      <td>26.0</td>\n",
       "      <td>Yes</td>\n",
       "      <td>Fiber optic</td>\n",
       "      <td>70.32</td>\n",
       "      <td>NaN</td>\n",
       "      <td>No</td>\n",
       "      <td>2021-10-26</td>\n",
       "    </tr>\n",
       "    <tr>\n",
       "      <th>1</th>\n",
       "      <td>CUST000002</td>\n",
       "      <td>Female</td>\n",
       "      <td>0.0</td>\n",
       "      <td>No</td>\n",
       "      <td>No</td>\n",
       "      <td>NaN</td>\n",
       "      <td>Yes</td>\n",
       "      <td>Fiber optic</td>\n",
       "      <td>47.88</td>\n",
       "      <td>2161.36</td>\n",
       "      <td>Yes</td>\n",
       "      <td>2022-04-03</td>\n",
       "    </tr>\n",
       "    <tr>\n",
       "      <th>2</th>\n",
       "      <td>CUST000003</td>\n",
       "      <td>Male</td>\n",
       "      <td>0.0</td>\n",
       "      <td>No</td>\n",
       "      <td>Yes</td>\n",
       "      <td>NaN</td>\n",
       "      <td>Yes</td>\n",
       "      <td>NaN</td>\n",
       "      <td>99.91</td>\n",
       "      <td>4224.95</td>\n",
       "      <td>Yes</td>\n",
       "      <td>2021-05-03</td>\n",
       "    </tr>\n",
       "    <tr>\n",
       "      <th>3</th>\n",
       "      <td>CUST000004</td>\n",
       "      <td>Male</td>\n",
       "      <td>NaN</td>\n",
       "      <td>No</td>\n",
       "      <td>No</td>\n",
       "      <td>44.0</td>\n",
       "      <td>Yes</td>\n",
       "      <td>DSL</td>\n",
       "      <td>29.44</td>\n",
       "      <td>1340.09</td>\n",
       "      <td>No</td>\n",
       "      <td>2021-08-18</td>\n",
       "    </tr>\n",
       "    <tr>\n",
       "      <th>4</th>\n",
       "      <td>CUST000005</td>\n",
       "      <td>NaN</td>\n",
       "      <td>0.0</td>\n",
       "      <td>No</td>\n",
       "      <td>Yes</td>\n",
       "      <td>29.0</td>\n",
       "      <td>NaN</td>\n",
       "      <td>Fiber optic</td>\n",
       "      <td>78.82</td>\n",
       "      <td>2280.05</td>\n",
       "      <td>No</td>\n",
       "      <td>2022-02-17</td>\n",
       "    </tr>\n",
       "  </tbody>\n",
       "</table>\n",
       "</div>"
      ],
      "text/plain": [
       "   CustomerID  Gender  SeniorCitizen Partner Dependents  Tenure PhoneService  \\\n",
       "0  CUST000001    Male            0.0     Yes        Yes    26.0          Yes   \n",
       "1  CUST000002  Female            0.0      No         No     NaN          Yes   \n",
       "2  CUST000003    Male            0.0      No        Yes     NaN          Yes   \n",
       "3  CUST000004    Male            NaN      No         No    44.0          Yes   \n",
       "4  CUST000005     NaN            0.0      No        Yes    29.0          NaN   \n",
       "\n",
       "  InternetService  MonthlyCharges TotalCharges Churn   Timestamp  \n",
       "0     Fiber optic           70.32          NaN    No  2021-10-26  \n",
       "1     Fiber optic           47.88      2161.36   Yes  2022-04-03  \n",
       "2             NaN           99.91      4224.95   Yes  2021-05-03  \n",
       "3             DSL           29.44      1340.09    No  2021-08-18  \n",
       "4     Fiber optic           78.82      2280.05    No  2022-02-17  "
      ]
     },
     "execution_count": 13,
     "metadata": {},
     "output_type": "execute_result"
    }
   ],
   "source": [
    "df=pd.read_csv(\"C:\\\\Users\\\\admi\\Downloads\\\\telecom_churn.csv\")\n",
    "df.head()"
   ]
  },
  {
   "cell_type": "code",
   "execution_count": 14,
   "id": "bae3dbb7",
   "metadata": {},
   "outputs": [
    {
     "name": "stdout",
     "output_type": "stream",
     "text": [
      "<class 'pandas.core.frame.DataFrame'>\n",
      "RangeIndex: 100000 entries, 0 to 99999\n",
      "Data columns (total 12 columns):\n",
      " #   Column           Non-Null Count   Dtype  \n",
      "---  ------           --------------   -----  \n",
      " 0   CustomerID       100000 non-null  object \n",
      " 1   Gender           81787 non-null   object \n",
      " 2   SeniorCitizen    81861 non-null   float64\n",
      " 3   Partner          81994 non-null   object \n",
      " 4   Dependents       82003 non-null   object \n",
      " 5   Tenure           82001 non-null   float64\n",
      " 6   PhoneService     82096 non-null   object \n",
      " 7   InternetService  81579 non-null   object \n",
      " 8   MonthlyCharges   81904 non-null   float64\n",
      " 9   TotalCharges     80257 non-null   object \n",
      " 10  Churn            100000 non-null  object \n",
      " 11  Timestamp        81757 non-null   object \n",
      "dtypes: float64(3), object(9)\n",
      "memory usage: 9.2+ MB\n"
     ]
    }
   ],
   "source": [
    "df.info()"
   ]
  },
  {
   "cell_type": "code",
   "execution_count": 15,
   "id": "5a750a62",
   "metadata": {},
   "outputs": [],
   "source": [
    "df['TotalCharges']=df['TotalCharges'].astype(str).str.strip().replace('', np.nan)\n",
    "df['TotalCharges']=pd.to_numeric(df['TotalCharges'],errors='coerce')"
   ]
  },
  {
   "cell_type": "code",
   "execution_count": 16,
   "id": "3d9a7b26",
   "metadata": {},
   "outputs": [
    {
     "name": "stdout",
     "output_type": "stream",
     "text": [
      "Missing values in TotalCharges: 20591\n"
     ]
    }
   ],
   "source": [
    "print(\"Missing values in TotalCharges:\",df['TotalCharges'].isna().sum())"
   ]
  },
  {
   "cell_type": "code",
   "execution_count": 17,
   "id": "9c8b9edd",
   "metadata": {},
   "outputs": [
    {
     "name": "stdout",
     "output_type": "stream",
     "text": [
      "\n",
      "Missing values summary:\n",
      "                 missing_count  missing_percent\n",
      "TotalCharges             20591            20.59\n",
      "InternetService          18421            18.42\n",
      "Timestamp                18243            18.24\n",
      "Gender                   18213            18.21\n",
      "SeniorCitizen            18139            18.14\n",
      "MonthlyCharges           18096            18.10\n",
      "Partner                  18006            18.01\n",
      "Tenure                   17999            18.00\n",
      "Dependents               17997            18.00\n",
      "PhoneService             17904            17.90\n"
     ]
    }
   ],
   "source": [
    "missing_counts = df.isna().sum()\n",
    "missing_percent = (missing_counts / len(df) * 100).round(2)\n",
    "missing_summary = pd.DataFrame({\n",
    "    'missing_count': missing_counts,\n",
    "    'missing_percent': missing_percent\n",
    "}).sort_values(by='missing_count', ascending=False)\n",
    "\n",
    "print(\"\\nMissing values summary:\")\n",
    "print(missing_summary[missing_summary['missing_count'] > 0])"
   ]
  },
  {
   "cell_type": "code",
   "execution_count": 18,
   "id": "47d10bd3",
   "metadata": {},
   "outputs": [
    {
     "data": {
      "image/png": "[encoded data removed]",
      "text/plain": [
       "<Figure size 576x360 with 1 Axes>"
      ]
     },
     "metadata": {
      "needs_background": "light"
     },
     "output_type": "display_data"
    }
   ],
   "source": [
    "import matplotlib.pyplot as plt\n",
    "import seaborn as sns\n",
    "plt.figure(figsize=(8,5))\n",
    "sns.kdeplot(data=df, x=\"MonthlyCharges\", hue=\"Churn\", fill=True)\n",
    "plt.title(\"Distribution of MonthlyCharges by Churn\")\n",
    "plt.xlabel(\"Monthly Charges\")\n",
    "plt.ylabel(\"Density\")\n",
    "plt.show()"
   ]
  },
  {
   "cell_type": "code",
   "execution_count": 19,
   "id": "a75769c7",
   "metadata": {},
   "outputs": [
    {
     "data": {
      "image/png": "[encoded data removed]",
      "text/plain": [
       "<Figure size 432x288 with 1 Axes>"
      ]
     },
     "metadata": {
      "needs_background": "light"
     },
     "output_type": "display_data"
    }
   ],
   "source": [
    "plt.figure(figsize=(6,4))\n",
    "sns.countplot(data=df, x=\"SeniorCitizen\", hue=\"Churn\")\n",
    "plt.title(\"Senior Citizen vs Churn\")\n",
    "plt.xlabel(\"Senior Citizen (0 = No, 1 = Yes)\")\n",
    "plt.ylabel(\"Count\")\n",
    "plt.show()"
   ]
  },
  {
   "cell_type": "code",
   "execution_count": 20,
   "id": "420e79fe",
   "metadata": {},
   "outputs": [
    {
     "data": {
      "image/png": "[encoded data removed]",
      "text/plain": [
       "<Figure size 576x360 with 1 Axes>"
      ]
     },
     "metadata": {
      "needs_background": "light"
     },
     "output_type": "display_data"
    }
   ],
   "source": [
    "plt.figure(figsize=(8,5))\n",
    "sns.countplot(data=df, x=\"InternetService\", hue=\"Churn\")\n",
    "plt.title(\"Internet Service vs Churn\")\n",
    "plt.xlabel(\"Internet Service Type\")\n",
    "plt.ylabel(\"Count\")\n",
    "plt.xticks(rotation=45)\n",
    "plt.show()"
   ]
  },
  {
   "cell_type": "markdown",
   "id": "e6967cf3",
   "metadata": {},
   "source": [
    "EDA Explanation\n",
    "\n",
    "1) Senior citizen vs churn- Senior citizens exhibit a much higher churn rate compared to non-senior customers.\n",
    "Although they represent a smaller portion of the customer base, their churn-to-retention ratio is notably higher.\n",
    "\n",
    "2) Internet service vs churn- The chart shows that customers with fiber optic service have a much higher churn rate than those with DSL."
   ]
  },
  {
   "cell_type": "code",
   "execution_count": 21,
   "id": "0c0b67a2",
   "metadata": {},
   "outputs": [],
   "source": [
    "df['Monthlyavgcharges'] = df['TotalCharges'] / (df['Tenure'] + 1)"
   ]
  },
  {
   "cell_type": "code",
   "execution_count": 22,
   "id": "bd05a7c8",
   "metadata": {},
   "outputs": [],
   "source": [
    "df['MultipleServices'] = ((df['PhoneService'] == 'Yes') & (df['InternetService'] != 'No')).astype(int)"
   ]
  },
  {
   "cell_type": "markdown",
   "id": "7cb9a549",
   "metadata": {},
   "source": [
    "1) Monthlyavgcharges\n",
    "\n",
    "Reflects normalized spending patterns.\n",
    "\n",
    "Highlights customers paying unusually high or low relative to their tenure.\n",
    "\n",
    "Such deviations can strongly signal churn risk.\n",
    "\n",
    "2) MultipleServices\n",
    "\n",
    "Flags customers subscribed to both phone and internet services.\n",
    "\n",
    "Multi-service users tend to have lower churn likelihood due to higher switching costs."
   ]
  },
  {
   "cell_type": "code",
   "execution_count": 23,
   "id": "156c608b",
   "metadata": {},
   "outputs": [],
   "source": [
    "from sklearn.compose import ColumnTransformer\n",
    "from sklearn.preprocessing import OneHotEncoder,StandardScaler\n",
    "from sklearn.impute import SimpleImputer"
   ]
  },
  {
   "cell_type": "code",
   "execution_count": 24,
   "id": "c09fb3ac",
   "metadata": {},
   "outputs": [
    {
     "name": "stdout",
     "output_type": "stream",
     "text": [
      "<class 'pandas.core.frame.DataFrame'>\n",
      "RangeIndex: 100000 entries, 0 to 99999\n",
      "Data columns (total 14 columns):\n",
      " #   Column             Non-Null Count   Dtype  \n",
      "---  ------             --------------   -----  \n",
      " 0   CustomerID         100000 non-null  object \n",
      " 1   Gender             81787 non-null   object \n",
      " 2   SeniorCitizen      81861 non-null   float64\n",
      " 3   Partner            81994 non-null   object \n",
      " 4   Dependents         82003 non-null   object \n",
      " 5   Tenure             82001 non-null   float64\n",
      " 6   PhoneService       82096 non-null   object \n",
      " 7   InternetService    81579 non-null   object \n",
      " 8   MonthlyCharges     81904 non-null   float64\n",
      " 9   TotalCharges       79409 non-null   float64\n",
      " 10  Churn              100000 non-null  object \n",
      " 11  Timestamp          81757 non-null   object \n",
      " 12  Monthlyavgcharges  65096 non-null   float64\n",
      " 13  MultipleServices   100000 non-null  int32  \n",
      "dtypes: float64(5), int32(1), object(8)\n",
      "memory usage: 10.3+ MB\n"
     ]
    }
   ],
   "source": [
    "df.info()"
   ]
  },
  {
   "cell_type": "code",
   "execution_count": 25,
   "id": "f37ae4fd",
   "metadata": {},
   "outputs": [],
   "source": [
    "unnecessary=['CustomerID', 'Timestamp']\n",
    "numerical=['Tenure', 'MonthlyCharges', 'TotalCharges','Monthlyavgcharges']\n",
    "categorical=['Gender', 'SeniorCitizen', 'Partner','Dependents','PhoneService', 'InternetService','MultipleServices']"
   ]
  },
  {
   "cell_type": "code",
   "execution_count": 27,
   "id": "0b66fc59",
   "metadata": {},
   "outputs": [],
   "source": [
    "from sklearn.pipeline import Pipeline\n",
    "\n",
    "numerical_pipe=Pipeline(steps=[\n",
    "    ('imputer', SimpleImputer(strategy='median')),\n",
    "    ('scaler', StandardScaler())\n",
    "])\n",
    "categorical_pipe=Pipeline(steps=[\n",
    "    ('imputer', SimpleImputer(strategy='most_frequent')),\n",
    "    ('encoder', OneHotEncoder(handle_unknown='ignore'))\n",
    "])\n",
    "preprocessor = ColumnTransformer(\n",
    "    transformers=[\n",
    "        ('num', numerical_pipe, numerical),\n",
    "        ('cat', categorical_pipe, categorical)\n",
    "    ],\n",
    "    remainder='drop'  )"
   ]
  },
  {
   "cell_type": "code",
   "execution_count": 28,
   "id": "bc3f4e27",
   "metadata": {},
   "outputs": [],
   "source": [
    "from sklearn.linear_model import LogisticRegression\n",
    "from sklearn.model_selection import train_test_split"
   ]
  },
  {
   "cell_type": "code",
   "execution_count": 29,
   "id": "173b300e",
   "metadata": {},
   "outputs": [],
   "source": [
    "X= df.drop(columns=['Churn', 'CustomerID', 'Timestamp'])\n",
    "y = df['Churn'].map({'Yes': 1, 'No': 0})\n",
    "X_train,X_test,y_train,y_test=train_test_split(X,y,test_size=0.2,random_state=42,stratify=y)\n"
   ]
  },
  {
   "cell_type": "code",
   "execution_count": 30,
   "id": "cb7192cc",
   "metadata": {},
   "outputs": [
    {
     "name": "stdout",
     "output_type": "stream",
     "text": [
      "Pipeline successfully trained on training data \n"
     ]
    }
   ],
   "source": [
    "classification_pipeline = Pipeline(steps=[\n",
    "    ('preprocessor', preprocessor),\n",
    "    ('classifier', LogisticRegression(max_iter=1000))\n",
    "])\n",
    "classification_pipeline.fit(X_train, y_train)\n",
    "print(\"Pipeline successfully trained on training data \")"
   ]
  },
  {
   "cell_type": "code",
   "execution_count": 31,
   "id": "942b0aea",
   "metadata": {},
   "outputs": [],
   "source": [
    "from sklearn.ensemble import RandomForestClassifier,GradientBoostingClassifier\n",
    "from sklearn.metrics import f1_score, roc_auc_score"
   ]
  },
  {
   "cell_type": "code",
   "execution_count": 32,
   "id": "9b4c5e2d",
   "metadata": {},
   "outputs": [],
   "source": [
    "models={\n",
    "    \"Logistic Regression\": LogisticRegression(max_iter=1000,class_weight='balanced'),\n",
    "    \"Random Forest\": RandomForestClassifier(class_weight='balanced',random_state=42),\n",
    "    \"Gradient Boosting\": GradientBoostingClassifier(random_state=42) \n",
    "}"
   ]
  },
  {
   "cell_type": "code",
   "execution_count": 33,
   "id": "4c2fddbc",
   "metadata": {},
   "outputs": [],
   "source": [
    "result={}\n",
    "\n",
    "for name ,model in models.items():\n",
    "    pipe=Pipeline(steps=[\n",
    "        ('preprocessor', preprocessor),\n",
    "        ('classifier', model)\n",
    "    ])\n",
    "   \n",
    "    pipe.fit(X_train,y_train)\n",
    "    y_pred=pipe.predict(X_test)\n",
    "    y_prob=pipe.predict_proba(X_test)[:,1]\n",
    "   \n",
    "    result[name]={\n",
    "        \"F1_weighted\": f1_score(y_test, y_pred, average='weighted'),\n",
    "        \"ROC_AUC\": roc_auc_score(y_test, y_prob)\n",
    "    }\n"
   ]
  },
  {
   "cell_type": "code",
   "execution_count": 34,
   "id": "bfa4389b",
   "metadata": {},
   "outputs": [
    {
     "name": "stdout",
     "output_type": "stream",
     "text": [
      "Model comparison results:\n",
      "Logistic Regression: F1_weighted=0.5366,ROC_AUC=0.5004\n",
      "Random Forest: F1_weighted=0.6404,ROC_AUC=0.5028\n",
      "Gradient Boosting: F1_weighted=0.6289,ROC_AUC=0.4966\n"
     ]
    }
   ],
   "source": [
    "print(\"Model comparison results:\")\n",
    "for model_name, metrics in result.items():\n",
    "    print(f\"{model_name}: F1_weighted={metrics['F1_weighted']:.4f},ROC_AUC={metrics['ROC_AUC']:.4f}\")"
   ]
  },
  {
   "cell_type": "code",
   "execution_count": 35,
   "id": "862961c4",
   "metadata": {},
   "outputs": [],
   "source": [
    "rf_pipe= Pipeline(steps=[\n",
    "    ('preprocessor', preprocessor),\n",
    "    ('classifier', RandomForestClassifier(random_state=42,\n",
    "class_weight='balanced'))\n",
    "])"
   ]
  },
  {
   "cell_type": "code",
   "execution_count": 36,
   "id": "30a68a47",
   "metadata": {},
   "outputs": [],
   "source": [
    "param_grid = {\n",
    "    'classifier__n_estimators': [100, 200, 300],\n",
    "    'classifier__max_depth': [10, 20, None],\n",
    "    'classifier__min_samples_split': [2, 5, 10]\n",
    "}"
   ]
  },
  {
   "cell_type": "code",
   "execution_count": 37,
   "id": "fbf02c14",
   "metadata": {},
   "outputs": [
    {
     "name": "stdout",
     "output_type": "stream",
     "text": [
      "Fitting 5 folds for each of 27 candidates, totalling 135 fits\n",
      "Best parameters found: {'classifier__max_depth': None, 'classifier__min_samples_split': 2, 'classifier__n_estimators': 200}\n",
      "Best cross-validated ROC AUC: 0.5031028018899365\n"
     ]
    }
   ],
   "source": [
    "from sklearn.model_selection import GridSearchCV\n",
    "grid_search = GridSearchCV(\n",
    "    rf_pipe,\n",
    "    param_grid,\n",
    "    cv=5,\n",
    "    scoring='roc_auc',\n",
    "    n_jobs=-1,\n",
    "    verbose=2\n",
    ")\n",
    "grid_search.fit(X_train, y_train)\n",
    "print(\"Best parameters found:\", grid_search.best_params_)\n",
    "print(\"Best cross-validated ROC AUC:\", grid_search.best_score_)"
   ]
  },
  {
   "cell_type": "markdown",
   "id": "1be29c26",
   "metadata": {},
   "source": [
    "Interpretation:\n",
    "\n",
    "The tuned Random Forest model shows only a marginal gain in ROC AUC over the baseline models.\n",
    "This suggests that although the model captures some signal, further improvements may depend on stronger imbalance handling and enhanced feature engineering to better separate churned from non-churned customers."
   ]
  },
  {
   "cell_type": "code",
   "execution_count": 38,
   "id": "42abb9e2",
   "metadata": {},
   "outputs": [],
   "source": [
    "randomforest_weighted=Pipeline(steps=[\n",
    "    ('preprocessor', preprocessor),\n",
    "    ('classifier', RandomForestClassifier(\n",
    "        n_estimators=200,\n",
    "        max_depth=None,\n",
    "        min_samples_split=2,\n",
    "        class_weight='balanced', \n",
    "        random_state=42))\n",
    "])\n"
   ]
  },
  {
   "cell_type": "code",
   "execution_count": 39,
   "id": "d4e42ce4",
   "metadata": {},
   "outputs": [
    {
     "data": {
      "text/plain": [
       "Pipeline(steps=[('preprocessor',\n",
       "                 ColumnTransformer(transformers=[('num',\n",
       "                                                  Pipeline(steps=[('imputer',\n",
       "                                                                   SimpleImputer(strategy='median')),\n",
       "                                                                  ('scaler',\n",
       "                                                                   StandardScaler())]),\n",
       "                                                  ['Tenure', 'MonthlyCharges',\n",
       "                                                   'TotalCharges',\n",
       "                                                   'Monthlyavgcharges']),\n",
       "                                                 ('cat',\n",
       "                                                  Pipeline(steps=[('imputer',\n",
       "                                                                   SimpleImputer(strategy='most_frequent')),\n",
       "                                                                  ('encoder',\n",
       "                                                                   OneHotEncoder(handle_unknown='ignore'))]),\n",
       "                                                  ['Gender', 'SeniorCitizen',\n",
       "                                                   'Partner', 'Dependents',\n",
       "                                                   'PhoneService',\n",
       "                                                   'InternetService',\n",
       "                                                   'MultipleServices'])])),\n",
       "                ('classifier',\n",
       "                 RandomForestClassifier(class_weight='balanced',\n",
       "                                        n_estimators=200, random_state=42))])"
      ]
     },
     "execution_count": 39,
     "metadata": {},
     "output_type": "execute_result"
    }
   ],
   "source": [
    "randomforest_weighted.fit(X_train,y_train)\n"
   ]
  },
  {
   "cell_type": "code",
   "execution_count": 40,
   "id": "88d35066",
   "metadata": {},
   "outputs": [],
   "source": [
    "y_pred_w = randomforest_weighted.predict(X_test)\n",
    "y_proba_w = randomforest_weighted.predict_proba(X_test)[:,1]"
   ]
  },
  {
   "cell_type": "code",
   "execution_count": 41,
   "id": "d770256b",
   "metadata": {},
   "outputs": [
    {
     "name": "stdout",
     "output_type": "stream",
     "text": [
      "Random Forest with Class Weighting\n",
      "F1_weighted: 0.6395634175897836\n",
      "ROC_AUC: 0.5026431048574819\n",
      "\n",
      "Classification Report:\n",
      "               precision    recall  f1-score   support\n",
      "\n",
      "           0       0.74      0.90      0.81     14791\n",
      "           1       0.27      0.10      0.15      5209\n",
      "\n",
      "    accuracy                           0.69     20000\n",
      "   macro avg       0.50      0.50      0.48     20000\n",
      "weighted avg       0.62      0.69      0.64     20000\n",
      "\n",
      "Confusion Matrix:\n",
      " [[13299  1492]\n",
      " [ 4666   543]]\n"
     ]
    }
   ],
   "source": [
    "from sklearn.metrics import classification_report,confusion_matrix,roc_auc_score,f1_score\n",
    "print(\"Random Forest with Class Weighting\")\n",
    "print(\"F1_weighted:\", f1_score(y_test, y_pred_w, average='weighted'))\n",
    "print(\"ROC_AUC:\", roc_auc_score(y_test, y_proba_w))\n",
    "print(\"\\nClassification Report:\\n\", classification_report(y_test,y_pred_w))\n",
    "print(\"Confusion Matrix:\\n\", confusion_matrix(y_test, y_pred_w))"
   ]
  },
  {
   "cell_type": "code",
   "execution_count": 42,
   "id": "79baac91",
   "metadata": {},
   "outputs": [
    {
     "data": {
      "text/plain": [
       "Pipeline(steps=[('preprocessor',\n",
       "                 ColumnTransformer(transformers=[('num',\n",
       "                                                  Pipeline(steps=[('imputer',\n",
       "                                                                   SimpleImputer(strategy='median')),\n",
       "                                                                  ('scaler',\n",
       "                                                                   StandardScaler())]),\n",
       "                                                  ['Tenure', 'MonthlyCharges',\n",
       "                                                   'TotalCharges',\n",
       "                                                   'Monthlyavgcharges']),\n",
       "                                                 ('cat',\n",
       "                                                  Pipeline(steps=[('imputer',\n",
       "                                                                   SimpleImputer(strategy='most_frequent')),\n",
       "                                                                  ('encoder',\n",
       "                                                                   OneHotEncoder(handle_unknown='ignore'))]),\n",
       "                                                  ['Gender', 'SeniorCitizen',\n",
       "                                                   'Partner', 'Dependents',\n",
       "                                                   'PhoneService',\n",
       "                                                   'InternetService',\n",
       "                                                   'MultipleServices'])])),\n",
       "                ('smote', SMOTE(random_state=42)),\n",
       "                ('classifier',\n",
       "                 RandomForestClassifier(n_estimators=200, random_state=42))])"
      ]
     },
     "execution_count": 42,
     "metadata": {},
     "output_type": "execute_result"
    }
   ],
   "source": [
    "from imblearn.over_sampling import SMOTE\n",
    "from imblearn.pipeline import Pipeline as ImbPipeline\n",
    "randomforest_smote = ImbPipeline(steps=[\n",
    "    ('preprocessor', preprocessor),\n",
    "    ('smote', SMOTE(random_state=42)), \n",
    "    ('classifier', RandomForestClassifier(\n",
    "        n_estimators=200,\n",
    "        max_depth=None,\n",
    "        min_samples_split=2,\n",
    "        random_state=42\n",
    "    ))\n",
    "])\n",
    "randomforest_smote.fit(X_train, y_train)\n"
   ]
  },
  {
   "cell_type": "code",
   "execution_count": 43,
   "id": "8bf5dfeb",
   "metadata": {},
   "outputs": [
    {
     "name": "stdout",
     "output_type": "stream",
     "text": [
      "Random Forest with SMOTE Oversampling\n",
      "F1_weighted: 0.6097858737738435\n",
      "ROC_AUC: 0.5036105164219462\n",
      "\n",
      "Classification Report:\n",
      "               precision    recall  f1-score   support\n",
      "\n",
      "           0       0.74      0.71      0.73     14791\n",
      "           1       0.26      0.29      0.28      5209\n",
      "\n",
      "    accuracy                           0.60     20000\n",
      "   macro avg       0.50      0.50      0.50     20000\n",
      "weighted avg       0.62      0.60      0.61     20000\n",
      "\n",
      "Confusion Matrix:\n",
      " [[10549  4242]\n",
      " [ 3687  1522]]\n"
     ]
    }
   ],
   "source": [
    "y_pred_s = randomforest_smote.predict(X_test)\n",
    "y_proba_s = randomforest_smote.predict_proba(X_test)[:,1]\n",
    "print(\"Random Forest with SMOTE Oversampling\")\n",
    "print(\"F1_weighted:\", f1_score(y_test, y_pred_s, average='weighted'))\n",
    "print(\"ROC_AUC:\", roc_auc_score(y_test, y_proba_s))\n",
    "print(\"\\nClassification Report:\\n\", classification_report(y_test,\n",
    "y_pred_s))\n",
    "print(\"Confusion Matrix:\\n\", confusion_matrix(y_test, y_pred_s))"
   ]
  },
  {
   "cell_type": "markdown",
   "id": "eb5f6ccf",
   "metadata": {},
   "source": [
    "Baseline (No imbalance handling):\n",
    "\n",
    "F1_weighted ≈ 0.64\n",
    "\n",
    "ROC AUC ≈ 0.50\n",
    "\n",
    "Recall for churners ≈ 0.05–0.10 (very poor).\n",
    "\n",
    "Almost all churners are missed."
   ]
  },
  {
   "cell_type": "markdown",
   "id": "96eba77f",
   "metadata": {},
   "source": [
    "Class Weighting:\n",
    "\n",
    "F1_weighted ≈ 0.64\n",
    "\n",
    "ROC AUC ≈ 0.503\n",
    "\n",
    "Churn recall improved slightly but still too low.\n",
    "\n",
    "Model remains biased toward majority class."
   ]
  },
  {
   "cell_type": "markdown",
   "id": "7cf7e287",
   "metadata": {},
   "source": [
    "SMOTE Oversampling:\n",
    "\n",
    "F1_weighted ≈ 0.61\n",
    "\n",
    "ROC AUC ≈ 0.504\n",
    "\n",
    "Churn recall jumped to 29%.\n",
    "\n",
    "Trade-off: More false positives, lowering precision.\n",
    "\n",
    "However, recall improvement is crucial because missing churners is more costly than\n",
    "false alarms."
   ]
  },
  {
   "cell_type": "markdown",
   "id": "a0fc303c",
   "metadata": {},
   "source": [
    "Conclusion:\n",
    "\n",
    "Class weighting did not significantly improve performance.\n",
    "\n",
    "SMOTE oversampling improved churn recall substantially, making it a better strategy\n",
    "for this business case.\n",
    "\n",
    "Even though precision is modest, detecting more churners allows the company to target\n",
    "retention offers more effectively.\n",
    "\n",
    "In customer churn prediction, recall for the churn class is the most important metric —\n",
    "so SMOTE is the preferred method."
   ]
  },
  {
   "cell_type": "code",
   "execution_count": 45,
   "id": "3704b77a",
   "metadata": {},
   "outputs": [
    {
     "name": "stdout",
     "output_type": "stream",
     "text": [
      "Final Model Evaluation (Random Forest + SMOTE)\n",
      "Precision: 0.2640527411519778\n",
      "Recall: 0.29218660011518527\n",
      "F1-Score: 0.27740818372368536\n",
      "ROC AUC: 0.5036105164219462\n",
      "\n",
      "Classification Report:\n",
      "               precision    recall  f1-score   support\n",
      "\n",
      "           0       0.74      0.71      0.73     14791\n",
      "           1       0.26      0.29      0.28      5209\n",
      "\n",
      "    accuracy                           0.60     20000\n",
      "   macro avg       0.50      0.50      0.50     20000\n",
      "weighted avg       0.62      0.60      0.61     20000\n",
      "\n"
     ]
    }
   ],
   "source": [
    "y_pred_final = randomforest_smote.predict(X_test)\n",
    "y_proba_final = randomforest_smote.predict_proba(X_test)[:,1]\n",
    "from sklearn.metrics import precision_score,recall_score\n",
    "precision = precision_score(y_test, y_pred_final)\n",
    "recall = recall_score(y_test, y_pred_final)\n",
    "f1 = f1_score(y_test, y_pred_final)\n",
    "roc_auc = roc_auc_score(y_test, y_proba_final)\n",
    "print(\"Final Model Evaluation (Random Forest + SMOTE)\")\n",
    "print(\"Precision:\", precision)\n",
    "print(\"Recall:\", recall)\n",
    "print(\"F1-Score:\", f1)\n",
    "print(\"ROC AUC:\", roc_auc)\n",
    "print(\"\\nClassification Report:\\n\", classification_report(y_test,y_pred_final))"
   ]
  },
  {
   "cell_type": "code",
   "execution_count": 51,
   "id": "55dd4c62",
   "metadata": {},
   "outputs": [
    {
     "data": {
      "image/png": "[encoded data removed]",
      "text/plain": [
       "<Figure size 432x288 with 2 Axes>"
      ]
     },
     "metadata": {
      "needs_background": "light"
     },
     "output_type": "display_data"
    }
   ],
   "source": [
    "c_mat = confusion_matrix(y_test, y_pred_final)\n",
    "sns.heatmap(c_mat, annot=True, fmt=\"d\", xticklabels=[\"NoChurn\",\"Churn\"], yticklabels=[\"No Churn\",\"Churn\"])\n",
    "plt.title(\"Confusion Matrix - Final Model\")\n",
    "plt.xlabel(\"Predicted\")\n",
    "plt.ylabel(\"Actual\")\n",
    "plt.show()"
   ]
  },
  {
   "cell_type": "code",
   "execution_count": 54,
   "id": "44898d91",
   "metadata": {},
   "outputs": [
    {
     "name": "stderr",
     "output_type": "stream",
     "text": [
      "C:\\Users\\admi\\AppData\\Local\\Temp\\ipykernel_17024\\2911045488.py:7: FutureWarning: \n",
      "\n",
      "Passing `palette` without assigning `hue` is deprecated and will be removed in v0.14.0. Assign the `y` variable to `hue` and set `legend=False` for the same effect.\n",
      "\n",
      "  sns.barplot(x=\"importance\", y=\"feature\", data=feat_importances,palette=\"viridis\")\n"
     ]
    },
    {
     "data": {
      "image/png": "[encoded data removed]",
      "text/plain": [
       "<Figure size 432x288 with 1 Axes>"
      ]
     },
     "metadata": {
      "needs_background": "light"
     },
     "output_type": "display_data"
    }
   ],
   "source": [
    "cat_features = randomforest_smote.named_steps['preprocessor'].transformers_[1][1].named_steps['encoder'].get_feature_names_out(categorical)\n",
    "num_features = numerical\n",
    "all_features = np.concatenate([num_features, cat_features])\n",
    "importances = randomforest_smote.named_steps['classifier'].feature_importances_\n",
    "feat_importances = pd.DataFrame({\"feature\": all_features,\"importance\": importances})\n",
    "feat_importances = feat_importances.sort_values(by=\"importance\",ascending=False).head(10)\n",
    "sns.barplot(x=\"importance\", y=\"feature\", data=feat_importances,palette=\"viridis\")\n",
    "plt.title(\"Top 10 Most Important Features (Random Forest)\")\n",
    "plt.xlabel(\"Importance\")\n",
    "plt.ylabel(\"Feature\")\n",
    "plt.show()"
   ]
  },
  {
   "cell_type": "code",
   "execution_count": 55,
   "id": "81f2c252",
   "metadata": {},
   "outputs": [
    {
     "data": {
      "text/html": [
       "<div>\n",
       "<style scoped>\n",
       "    .dataframe tbody tr th:only-of-type {\n",
       "        vertical-align: middle;\n",
       "    }\n",
       "\n",
       "    .dataframe tbody tr th {\n",
       "        vertical-align: top;\n",
       "    }\n",
       "\n",
       "    .dataframe thead th {\n",
       "        text-align: right;\n",
       "    }\n",
       "</style>\n",
       "<table border=\"1\" class=\"dataframe\">\n",
       "  <thead>\n",
       "    <tr style=\"text-align: right;\">\n",
       "      <th></th>\n",
       "      <th>feature</th>\n",
       "      <th>importance</th>\n",
       "    </tr>\n",
       "  </thead>\n",
       "  <tbody>\n",
       "    <tr>\n",
       "      <th>1</th>\n",
       "      <td>MonthlyCharges</td>\n",
       "      <td>0.274701</td>\n",
       "    </tr>\n",
       "    <tr>\n",
       "      <th>2</th>\n",
       "      <td>TotalCharges</td>\n",
       "      <td>0.241010</td>\n",
       "    </tr>\n",
       "    <tr>\n",
       "      <th>0</th>\n",
       "      <td>Tenure</td>\n",
       "      <td>0.233713</td>\n",
       "    </tr>\n",
       "    <tr>\n",
       "      <th>3</th>\n",
       "      <td>Monthlyavgcharges</td>\n",
       "      <td>0.175802</td>\n",
       "    </tr>\n",
       "    <tr>\n",
       "      <th>15</th>\n",
       "      <td>InternetService_Fiber optic</td>\n",
       "      <td>0.006404</td>\n",
       "    </tr>\n",
       "    <tr>\n",
       "      <th>10</th>\n",
       "      <td>Dependents_No</td>\n",
       "      <td>0.006219</td>\n",
       "    </tr>\n",
       "    <tr>\n",
       "      <th>11</th>\n",
       "      <td>Dependents_Yes</td>\n",
       "      <td>0.006136</td>\n",
       "    </tr>\n",
       "    <tr>\n",
       "      <th>14</th>\n",
       "      <td>InternetService_DSL</td>\n",
       "      <td>0.006010</td>\n",
       "    </tr>\n",
       "    <tr>\n",
       "      <th>5</th>\n",
       "      <td>Gender_Male</td>\n",
       "      <td>0.005909</td>\n",
       "    </tr>\n",
       "    <tr>\n",
       "      <th>4</th>\n",
       "      <td>Gender_Female</td>\n",
       "      <td>0.005893</td>\n",
       "    </tr>\n",
       "  </tbody>\n",
       "</table>\n",
       "</div>"
      ],
      "text/plain": [
       "                        feature  importance\n",
       "1                MonthlyCharges    0.274701\n",
       "2                  TotalCharges    0.241010\n",
       "0                        Tenure    0.233713\n",
       "3             Monthlyavgcharges    0.175802\n",
       "15  InternetService_Fiber optic    0.006404\n",
       "10                Dependents_No    0.006219\n",
       "11               Dependents_Yes    0.006136\n",
       "14          InternetService_DSL    0.006010\n",
       "5                   Gender_Male    0.005909\n",
       "4                 Gender_Female    0.005893"
      ]
     },
     "execution_count": 55,
     "metadata": {},
     "output_type": "execute_result"
    }
   ],
   "source": [
    "feat_importances"
   ]
  },
  {
   "cell_type": "markdown",
   "id": "e2c725fc",
   "metadata": {},
   "source": [
    "False Positive (FP): The model predicts a customer will churn, but they actually stay.\n",
    "Business impact: The company spends resources (discounts, retention offers, promotions) on customers who weren’t at risk. This leads to extra financial cost, but revenue is preserved since the customer remains.\n",
    "\n",
    "False Negative (FN): The model predicts a customer will stay, but they actually churn.\n",
    "Business impact: The company takes no preventive action, resulting in customer loss. This not only reduces immediate revenue but can also hurt long-term value through lost lifetime revenue, negative referrals, and higher acquisition costs to replace them."
   ]
  },
  {
   "cell_type": "markdown",
   "id": "165e211d",
   "metadata": {},
   "source": [
    "Which is Worse?\n",
    "\n",
    "False Negatives are worse in customer churn prediction.\n",
    "Losing a customer (revenue, brand value, future upselling potential) costs far more than \n",
    "spending some extra resources on retention offers.m"
   ]
  },
  {
   "cell_type": "markdown",
   "id": "8716bc48",
   "metadata": {},
   "source": [
    "MonthlyCharges:\n",
    "\n",
    "Customers with higher monthly expenses show greater churn tendency.\n",
    "\n",
    "Dissatisfaction may arise if the perceived value doesn’t justify the cost.\n",
    "\n",
    "TotalCharges & Tenure:\n",
    "\n",
    "Newer customers with lower tenure are more prone to churn.\n",
    "\n",
    "Long-tenured customers tend to be more loyal and less likely to leave."
   ]
  },
  {
   "cell_type": "code",
   "execution_count": 56,
   "id": "44ac675f",
   "metadata": {},
   "outputs": [
    {
     "name": "stdout",
     "output_type": "stream",
     "text": [
      "Final Model Accuracy: 0.60355\n"
     ]
    }
   ],
   "source": [
    "from sklearn.metrics import accuracy_score\n",
    "accuracy = accuracy_score(y_test, y_pred_final)\n",
    "print(\"Final Model Accuracy:\", accuracy)"
   ]
  },
  {
   "cell_type": "code",
   "execution_count": null,
   "id": "00483d16",
   "metadata": {},
   "outputs": [],
   "source": []
  }
 ],
 "metadata": {
  "kernelspec": {
   "display_name": "base",
   "language": "python",
   "name": "python3"
  },
  "language_info": {
   "codemirror_mode": {
    "name": "ipython",
    "version": 3
   },
   "file_extension": ".py",
   "mimetype": "text/x-python",
   "name": "python",
   "nbconvert_exporter": "python",
   "pygments_lexer": "ipython3",
   "version": "3.9.12"
  }
 },
 "nbformat": 4,
 "nbformat_minor": 5
}
